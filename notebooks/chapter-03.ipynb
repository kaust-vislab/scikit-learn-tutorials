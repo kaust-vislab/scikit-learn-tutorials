{
 "cells": [
  {
   "cell_type": "code",
   "execution_count": 90,
   "metadata": {},
   "outputs": [],
   "source": [
    "import matplotlib.pyplot as plt\n",
    "import numpy as np\n",
    "from sklearn import base, datasets, dummy, ensemble, linear_model, metrics, model_selection, multiclass, neighbors, preprocessing, svm"
   ]
  },
  {
   "cell_type": "code",
   "execution_count": 2,
   "metadata": {},
   "outputs": [],
   "source": [
    "%matplotlib inline"
   ]
  },
  {
   "cell_type": "markdown",
   "metadata": {},
   "source": [
    "# MNIST"
   ]
  },
  {
   "cell_type": "code",
   "execution_count": 3,
   "metadata": {},
   "outputs": [],
   "source": [
    "mnist = datasets.fetch_openml(\"mnist_784\", version=1)"
   ]
  },
  {
   "cell_type": "code",
   "execution_count": 4,
   "metadata": {},
   "outputs": [
    {
     "data": {
      "text/plain": [
       "dict_keys(['data', 'target', 'feature_names', 'DESCR', 'details', 'categories', 'url'])"
      ]
     },
     "execution_count": 4,
     "metadata": {},
     "output_type": "execute_result"
    }
   ],
   "source": [
    "mnist.keys()"
   ]
  },
  {
   "cell_type": "code",
   "execution_count": 5,
   "metadata": {},
   "outputs": [],
   "source": [
    "# MNIST data has already been split into training and testing data\n",
    "training_features, testing_features = np.split(mnist[\"data\"], [60000])"
   ]
  },
  {
   "cell_type": "code",
   "execution_count": 6,
   "metadata": {},
   "outputs": [
    {
     "data": {
      "text/plain": [
       "(60000, 784)"
      ]
     },
     "execution_count": 6,
     "metadata": {},
     "output_type": "execute_result"
    }
   ],
   "source": [
    "training_features.shape"
   ]
  },
  {
   "cell_type": "code",
   "execution_count": 7,
   "metadata": {},
   "outputs": [
    {
     "data": {
      "text/plain": [
       "(10000, 784)"
      ]
     },
     "execution_count": 7,
     "metadata": {},
     "output_type": "execute_result"
    }
   ],
   "source": [
    "testing_features.shape"
   ]
  },
  {
   "cell_type": "code",
   "execution_count": 8,
   "metadata": {},
   "outputs": [],
   "source": [
    "_training_target, _testing_target = np.split(mnist[\"target\"], [60000])\n",
    "training_target = _training_target.astype(np.uint8)\n",
    "testing_target = _testing_target.astype(np.uint8)"
   ]
  },
  {
   "cell_type": "code",
   "execution_count": 9,
   "metadata": {},
   "outputs": [
    {
     "data": {
      "text/plain": [
       "(60000,)"
      ]
     },
     "execution_count": 9,
     "metadata": {},
     "output_type": "execute_result"
    }
   ],
   "source": [
    "training_target.shape"
   ]
  },
  {
   "cell_type": "code",
   "execution_count": 10,
   "metadata": {},
   "outputs": [
    {
     "data": {
      "text/plain": [
       "(10000,)"
      ]
     },
     "execution_count": 10,
     "metadata": {},
     "output_type": "execute_result"
    }
   ],
   "source": [
    "testing_target.shape"
   ]
  },
  {
   "cell_type": "markdown",
   "metadata": {},
   "source": [
    "# Training a Binary Classifier"
   ]
  },
  {
   "cell_type": "code",
   "execution_count": 11,
   "metadata": {},
   "outputs": [
    {
     "data": {
      "text/plain": [
       "SGDClassifier(alpha=0.0001, average=False, class_weight=None,\n",
       "              early_stopping=False, epsilon=0.1, eta0=0.0, fit_intercept=True,\n",
       "              l1_ratio=0.15, learning_rate='optimal', loss='hinge',\n",
       "              max_iter=1000, n_iter_no_change=5, n_jobs=None, penalty='l2',\n",
       "              power_t=0.5, random_state=RandomState(MT19937) at 0x150C7CB69CA8,\n",
       "              shuffle=True, tol=0.001, validation_fraction=0.1, verbose=0,\n",
       "              warm_start=False)"
      ]
     },
     "execution_count": 11,
     "metadata": {},
     "output_type": "execute_result"
    }
   ],
   "source": [
    "# classifies whether or not an image is a 5\n",
    "_prng = np.random.RandomState(42)\n",
    "is_five = (training_target == 5)\n",
    "five_classifier = linear_model.SGDClassifier(random_state=_prng)\n",
    "five_classifier.fit(training_features, is_five)"
   ]
  },
  {
   "cell_type": "markdown",
   "metadata": {},
   "source": [
    "# Performance Measures"
   ]
  },
  {
   "cell_type": "markdown",
   "metadata": {},
   "source": [
    "## Measuring accuracy usng cross-validation"
   ]
  },
  {
   "cell_type": "code",
   "execution_count": 12,
   "metadata": {},
   "outputs": [
    {
     "name": "stdout",
     "output_type": "stream",
     "text": [
      "0.9612\n",
      "0.96375\n",
      "0.96475\n"
     ]
    }
   ],
   "source": [
    "# hand-rolled CV to give you intuition as to what is going on (N.B. for loop is trivially parallel!)\n",
    "_prng = np.random.RandomState(42)\n",
    "stratified_k_fold = model_selection.StratifiedKFold(n_splits=3, random_state=_prng)\n",
    "\n",
    "for training_idxs, validation_idxs in stratified_k_fold.split(training_features, is_five):\n",
    "    _clf = base.clone(five_classifier)\n",
    "    _clf.fit(training_features[training_idxs], is_five[training_idxs])\n",
    "    _predictions = _clf.predict(training_features[validation_idxs])\n",
    "    print(np.mean(_predictions == is_five[validation_idxs]))\n"
   ]
  },
  {
   "cell_type": "code",
   "execution_count": 13,
   "metadata": {},
   "outputs": [
    {
     "name": "stderr",
     "output_type": "stream",
     "text": [
      "[Parallel(n_jobs=3)]: Using backend LokyBackend with 3 concurrent workers.\n",
      "[Parallel(n_jobs=3)]: Done   3 out of   3 | elapsed:   11.2s remaining:    0.0s\n",
      "[Parallel(n_jobs=3)]: Done   3 out of   3 | elapsed:   11.2s finished\n"
     ]
    }
   ],
   "source": [
    "# prefer the library implementation where possible\n",
    "_prng = np.random.RandomState(42)\n",
    "stratified_k_fold = model_selection.StratifiedKFold(n_splits=3, random_state=_prng)\n",
    "accuracy_scores = model_selection.cross_val_score(five_classifier, training_features, is_five, cv=stratified_k_fold, n_jobs=3, verbose=10)"
   ]
  },
  {
   "cell_type": "code",
   "execution_count": 14,
   "metadata": {},
   "outputs": [
    {
     "data": {
      "text/plain": [
       "array([0.9612 , 0.96375, 0.96475])"
      ]
     },
     "execution_count": 14,
     "metadata": {},
     "output_type": "execute_result"
    }
   ],
   "source": [
    "accuracy_scores"
   ]
  },
  {
   "cell_type": "code",
   "execution_count": 15,
   "metadata": {},
   "outputs": [
    {
     "name": "stderr",
     "output_type": "stream",
     "text": [
      "[Parallel(n_jobs=3)]: Using backend LokyBackend with 3 concurrent workers.\n",
      "[Parallel(n_jobs=3)]: Done   3 out of   3 | elapsed:    0.9s remaining:    0.0s\n",
      "[Parallel(n_jobs=3)]: Done   3 out of   3 | elapsed:    0.9s finished\n"
     ]
    }
   ],
   "source": [
    "# dummy classifier that never classifies anything as a five will be right 90% of the time\n",
    "never_five_classifier = dummy.DummyClassifier(strategy=\"constant\", constant=0)\n",
    "\n",
    "_prng = np.random.RandomState(42)\n",
    "stratified_k_fold = model_selection.StratifiedKFold(n_splits=3, random_state=_prng)\n",
    "accuracy_scores = model_selection.cross_val_score(never_five_classifier, training_features, is_five, cv=stratified_k_fold, n_jobs=3, verbose=10)"
   ]
  },
  {
   "cell_type": "code",
   "execution_count": 16,
   "metadata": {},
   "outputs": [
    {
     "data": {
      "text/plain": [
       "array([0.90965, 0.90965, 0.90965])"
      ]
     },
     "execution_count": 16,
     "metadata": {},
     "output_type": "execute_result"
    }
   ],
   "source": [
    "accuracy_scores"
   ]
  },
  {
   "cell_type": "markdown",
   "metadata": {},
   "source": [
    "## Confusion Matrix"
   ]
  },
  {
   "cell_type": "code",
   "execution_count": 17,
   "metadata": {},
   "outputs": [
    {
     "name": "stderr",
     "output_type": "stream",
     "text": [
      "[Parallel(n_jobs=3)]: Using backend LokyBackend with 3 concurrent workers.\n",
      "[Parallel(n_jobs=3)]: Done   3 out of   3 | elapsed:   10.4s remaining:    0.0s\n",
      "[Parallel(n_jobs=3)]: Done   3 out of   3 | elapsed:   10.4s finished\n"
     ]
    }
   ],
   "source": [
    "_prng = np.random.RandomState(42)\n",
    "stratified_k_fold = model_selection.StratifiedKFold(n_splits=3, random_state=_prng)\n",
    "predicted_fives = model_selection.cross_val_predict(five_classifier, training_features, is_five, cv=stratified_k_fold, n_jobs=3, verbose=10)\n",
    "\n",
    "# rows are the actual classes; columns are the predicted classes\n",
    "confusion_matrix = metrics.confusion_matrix(is_five, predicted_fives)"
   ]
  },
  {
   "cell_type": "code",
   "execution_count": 18,
   "metadata": {},
   "outputs": [
    {
     "data": {
      "text/plain": [
       "0.8774360178445645"
      ]
     },
     "execution_count": 18,
     "metadata": {},
     "output_type": "execute_result"
    }
   ],
   "source": [
    "# calculating precision by hand...\n",
    "true_positives = confusion_matrix[1,1]\n",
    "false_positives = confusion_matrix[0, 1]\n",
    "true_positives / (true_positives + false_positives)"
   ]
  },
  {
   "cell_type": "code",
   "execution_count": 19,
   "metadata": {},
   "outputs": [
    {
     "data": {
      "text/plain": [
       "0.8774360178445645"
      ]
     },
     "execution_count": 19,
     "metadata": {},
     "output_type": "execute_result"
    }
   ],
   "source": [
    "# ...and with library code\n",
    "precision_score = metrics.precision_score(is_five, predicted_fives)\n",
    "precision_score"
   ]
  },
  {
   "cell_type": "code",
   "execution_count": 20,
   "metadata": {},
   "outputs": [
    {
     "data": {
      "text/plain": [
       "0.6893562073418189"
      ]
     },
     "execution_count": 20,
     "metadata": {},
     "output_type": "execute_result"
    }
   ],
   "source": [
    "# calculating recall by hand...\n",
    "false_negatives = confusion_matrix[1, 0]\n",
    "true_positives / (true_positives + false_negatives)"
   ]
  },
  {
   "cell_type": "code",
   "execution_count": 21,
   "metadata": {},
   "outputs": [
    {
     "data": {
      "text/plain": [
       "0.6893562073418189"
      ]
     },
     "execution_count": 21,
     "metadata": {},
     "output_type": "execute_result"
    }
   ],
   "source": [
    "# ...and with library code\n",
    "recall_score = metrics.recall_score(is_five, predicted_fives)\n",
    "recall_score"
   ]
  },
  {
   "cell_type": "code",
   "execution_count": 22,
   "metadata": {},
   "outputs": [
    {
     "data": {
      "text/plain": [
       "0.772107438016529"
      ]
     },
     "execution_count": 22,
     "metadata": {},
     "output_type": "execute_result"
    }
   ],
   "source": [
    "# f1 score is the harmonic mean of precision and recall\n",
    "2 / ((1 / precision_score) + (1 / recall_score))"
   ]
  },
  {
   "cell_type": "code",
   "execution_count": 23,
   "metadata": {},
   "outputs": [
    {
     "data": {
      "text/plain": [
       "0.7721074380165291"
      ]
     },
     "execution_count": 23,
     "metadata": {},
     "output_type": "execute_result"
    }
   ],
   "source": [
    "f1_score = metrics.f1_score(is_five, predicted_fives)\n",
    "f1_score"
   ]
  },
  {
   "cell_type": "markdown",
   "metadata": {},
   "source": [
    "## Precision/Recall Tradeoff"
   ]
  },
  {
   "cell_type": "code",
   "execution_count": 24,
   "metadata": {},
   "outputs": [
    {
     "name": "stderr",
     "output_type": "stream",
     "text": [
      "[Parallel(n_jobs=3)]: Using backend LokyBackend with 3 concurrent workers.\n",
      "[Parallel(n_jobs=3)]: Done   3 out of   3 | elapsed:    9.8s remaining:    0.0s\n",
      "[Parallel(n_jobs=3)]: Done   3 out of   3 | elapsed:    9.8s finished\n"
     ]
    }
   ],
   "source": [
    "# use cross validation to compute the decision scores\n",
    "_prng = np.random.RandomState(42)\n",
    "stratified_k_fold = model_selection.StratifiedKFold(n_splits=3, random_state=_prng)\n",
    "decision_scores = model_selection.cross_val_predict(five_classifier, training_features, is_five, method=\"decision_function\", cv=stratified_k_fold, n_jobs=3, verbose=10)\n",
    "\n",
    "# compute the precision-recall curve\n",
    "precision_scores, recall_scores, decision_thresholds = metrics.precision_recall_curve(is_five, decision_scores)"
   ]
  },
  {
   "cell_type": "code",
   "execution_count": 25,
   "metadata": {},
   "outputs": [
    {
     "data": {
      "image/png": "[encoded data removed]",
      "text/plain": [
       "<Figure size 432x288 with 2 Axes>"
      ]
     },
     "metadata": {
      "needs_background": "light"
     },
     "output_type": "display_data"
    }
   ],
   "source": [
    "fig, axes = plt.subplots(1, 2)\n",
    "axes[0].plot(decision_thresholds, precision_scores[:-1], label=\"Precision\")\n",
    "axes[0].plot(decision_thresholds, recall_scores[:-1], label=\"Recall\")\n",
    "axes[0].set_xscale(\"symlog\")\n",
    "axes[0].legend()\n",
    "\n",
    "axes[1].plot(recall_scores, precision_scores)\n",
    "axes[1].set_xlabel(\"Recall\")\n",
    "axes[1].set_ylabel(\"Precision\")\n",
    "fig.tight_layout()\n",
    "\n",
    "plt.show()"
   ]
  },
  {
   "cell_type": "markdown",
   "metadata": {},
   "source": [
    "## Receiver Operating Characteristic (ROC) Curve"
   ]
  },
  {
   "cell_type": "code",
   "execution_count": 26,
   "metadata": {},
   "outputs": [],
   "source": [
    "false_positive_rate, true_positive_rate, decision_thresholds = metrics.roc_curve(is_five, decision_scores)"
   ]
  },
  {
   "cell_type": "code",
   "execution_count": 27,
   "metadata": {},
   "outputs": [
    {
     "data": {
      "image/png": "[encoded data removed]",
      "text/plain": [
       "<Figure size 432x288 with 1 Axes>"
      ]
     },
     "metadata": {
      "needs_background": "light"
     },
     "output_type": "display_data"
    }
   ],
   "source": [
    "fig, ax = plt.subplots(1, 1)\n",
    "ax.plot(false_positive_rate, true_positive_rate)\n",
    "ax.plot(true_positive_rate, true_positive_rate, \"k--\")\n",
    "ax.set_xlabel(\"False Positive Rate (1 - Specificity)\")\n",
    "ax.set_ylabel(\"True Positive Rate (Recall or Sensitivity)\")\n",
    "ax.set_title(\"ROC Curve\")\n",
    "plt.show()"
   ]
  },
  {
   "cell_type": "code",
   "execution_count": 28,
   "metadata": {},
   "outputs": [
    {
     "data": {
      "text/plain": [
       "0.964821698911457"
      ]
     },
     "execution_count": 28,
     "metadata": {},
     "output_type": "execute_result"
    }
   ],
   "source": [
    "metrics.roc_auc_score(is_five, decision_scores)"
   ]
  },
  {
   "cell_type": "markdown",
   "metadata": {},
   "source": [
    "As a rule of thumb, you should prefer the Precision-Recall (PR) curve whenever the positive class is rare or when you care more about the false positives than the false negatives. Otherwise, use the Receiver Operating Characteristic (ROC) curve. "
   ]
  },
  {
   "cell_type": "code",
   "execution_count": 29,
   "metadata": {},
   "outputs": [
    {
     "name": "stderr",
     "output_type": "stream",
     "text": [
      "[Parallel(n_jobs=3)]: Using backend LokyBackend with 3 concurrent workers.\n",
      "[Parallel(n_jobs=3)]: Done   3 out of   3 | elapsed:    3.4s remaining:    0.0s\n",
      "[Parallel(n_jobs=3)]: Done   3 out of   3 | elapsed:    3.4s finished\n"
     ]
    }
   ],
   "source": [
    "_prng = np.random.RandomState(42)\n",
    "random_forest_classifier = ensemble.RandomForestClassifier(n_estimators=100, random_state=_prng, n_jobs=16)\n",
    "\n",
    "stratified_k_fold = model_selection.StratifiedKFold(n_splits=3, random_state=_prng)\n",
    "predicted_fives = model_selection.cross_val_predict(random_forest_classifier, training_features, is_five, cv=stratified_k_fold, n_jobs=3, verbose=10)"
   ]
  },
  {
   "cell_type": "code",
   "execution_count": 30,
   "metadata": {},
   "outputs": [
    {
     "name": "stdout",
     "output_type": "stream",
     "text": [
      "Precision: 0.9905083315756169, Recall: 0.8662608374838591, F1: 0.9242275142688446\n"
     ]
    }
   ],
   "source": [
    "precision_score = metrics.precision_score(is_five, predicted_fives)\n",
    "recall_score = metrics.recall_score(is_five, predicted_fives)\n",
    "f1_score = metrics.f1_score(is_five, predicted_fives)\n",
    "print(f\"Precision: {precision_score}, Recall: {recall_score}, F1: {f1_score}\")"
   ]
  },
  {
   "cell_type": "markdown",
   "metadata": {},
   "source": [
    "# Multiclass Classification"
   ]
  },
  {
   "cell_type": "code",
   "execution_count": 31,
   "metadata": {},
   "outputs": [],
   "source": [
    "# multi-class classification using SVM and a One-versus-one (OvO) strategy\n",
    "_prng = np.random.RandomState(42)\n",
    "svc = svm.SVC(gamma=\"scale\", decision_function_shape=\"ovo\", random_state=_prng)\n",
    "svc.fit(training_features, training_target)\n",
    "ovo_predictions = svc.predict(training_features)"
   ]
  },
  {
   "cell_type": "code",
   "execution_count": 32,
   "metadata": {},
   "outputs": [
    {
     "data": {
      "text/plain": [
       "array([5, 0, 4, ..., 5, 6, 8], dtype=uint8)"
      ]
     },
     "execution_count": 32,
     "metadata": {},
     "output_type": "execute_result"
    }
   ],
   "source": [
    "ovo_predictions"
   ]
  },
  {
   "cell_type": "code",
   "execution_count": 33,
   "metadata": {},
   "outputs": [],
   "source": [
    "ovo_decision_scores = svc.decision_function(training_features)"
   ]
  },
  {
   "cell_type": "code",
   "execution_count": 34,
   "metadata": {},
   "outputs": [
    {
     "data": {
      "text/plain": [
       "(60000, 45)"
      ]
     },
     "execution_count": 34,
     "metadata": {},
     "output_type": "execute_result"
    }
   ],
   "source": [
    "ovo_decision_scores.shape"
   ]
  },
  {
   "cell_type": "code",
   "execution_count": 36,
   "metadata": {},
   "outputs": [
    {
     "data": {
      "text/plain": [
       "array([35,  5, 34, ..., 35, 21, 35])"
      ]
     },
     "execution_count": 36,
     "metadata": {},
     "output_type": "execute_result"
    }
   ],
   "source": [
    "ovo_decision_scores.argmax(axis=1)"
   ]
  },
  {
   "cell_type": "code",
   "execution_count": 37,
   "metadata": {},
   "outputs": [],
   "source": [
    "# convert binary classifier into multiclass classifier\n",
    "_prng = np.random.RandomState(42)\n",
    "svc = svm.SVC(gamma=\"scale\", decision_function_shape=\"ovo\", random_state=_prng)\n",
    "one_versus_rest_classifier = multiclass.OneVsRestClassifier(svc)\n",
    "one_versus_rest_classifier.fit(training_features, training_target)\n",
    "ovr_predictions = one_versus_rest_classifier.predict(training_features)"
   ]
  },
  {
   "cell_type": "code",
   "execution_count": 38,
   "metadata": {},
   "outputs": [],
   "source": [
    "ovr_decision_scores = one_versus_rest_classifier.decision_function(training_features)"
   ]
  },
  {
   "cell_type": "code",
   "execution_count": 39,
   "metadata": {},
   "outputs": [
    {
     "data": {
      "text/plain": [
       "(60000, 10)"
      ]
     },
     "execution_count": 39,
     "metadata": {},
     "output_type": "execute_result"
    }
   ],
   "source": [
    "ovr_decision_scores.shape"
   ]
  },
  {
   "cell_type": "code",
   "execution_count": 40,
   "metadata": {},
   "outputs": [
    {
     "data": {
      "text/plain": [
       "array([5, 0, 4, ..., 5, 6, 8])"
      ]
     },
     "execution_count": 40,
     "metadata": {},
     "output_type": "execute_result"
    }
   ],
   "source": [
    "ovr_decision_scores.argmax(axis=1)"
   ]
  },
  {
   "cell_type": "code",
   "execution_count": 41,
   "metadata": {},
   "outputs": [],
   "source": [
    "# training stochastic gradient descent classifier\n",
    "_prng = np.random.RandomState(42)\n",
    "sgd_classifier = linear_model.SGDClassifier(n_jobs=10, random_state=_prng)\n",
    "sgd_classifier.fit(training_features, training_target)\n",
    "sgd_predictions = sgd_classifier.predict(training_features)"
   ]
  },
  {
   "cell_type": "code",
   "execution_count": 42,
   "metadata": {},
   "outputs": [
    {
     "name": "stderr",
     "output_type": "stream",
     "text": [
      "[Parallel(n_jobs=3)]: Using backend LokyBackend with 3 concurrent workers.\n",
      "[Parallel(n_jobs=3)]: Done   3 out of   3 | elapsed:   33.6s remaining:    0.0s\n",
      "[Parallel(n_jobs=3)]: Done   3 out of   3 | elapsed:   33.6s finished\n"
     ]
    }
   ],
   "source": [
    "# use cross validation to compute the decision scores\n",
    "_prng = np.random.RandomState(42)\n",
    "stratified_k_fold = model_selection.StratifiedKFold(n_splits=3, random_state=_prng)\n",
    "sgd_accuracy_scores = model_selection.cross_val_score(sgd_classifier, training_features, training_target, scoring=\"accuracy\", cv=stratified_k_fold, n_jobs=3, verbose=10)"
   ]
  },
  {
   "cell_type": "code",
   "execution_count": 43,
   "metadata": {},
   "outputs": [
    {
     "data": {
      "text/plain": [
       "array([0.87027594, 0.87759388, 0.8773316 ])"
      ]
     },
     "execution_count": 43,
     "metadata": {},
     "output_type": "execute_result"
    }
   ],
   "source": [
    "sgd_accuracy_scores"
   ]
  },
  {
   "cell_type": "code",
   "execution_count": 44,
   "metadata": {},
   "outputs": [
    {
     "name": "stderr",
     "output_type": "stream",
     "text": [
      "[Parallel(n_jobs=3)]: Using backend LokyBackend with 3 concurrent workers.\n",
      "[Parallel(n_jobs=3)]: Done   3 out of   3 | elapsed:    6.8s remaining:    0.0s\n",
      "[Parallel(n_jobs=3)]: Done   3 out of   3 | elapsed:    6.8s finished\n"
     ]
    }
   ],
   "source": [
    "# preprocessing improves accuracy\n",
    "min_max_scaler = preprocessing.MinMaxScaler()\n",
    "Z = min_max_scaler.fit_transform(training_features)\n",
    "\n",
    "_prng = np.random.RandomState(42)\n",
    "stratified_k_fold = model_selection.StratifiedKFold(n_splits=3, random_state=_prng)\n",
    "sgd_accuracy_scores = model_selection.cross_val_score(sgd_classifier, Z, training_target, scoring=\"accuracy\", cv=stratified_k_fold, n_jobs=3, verbose=10)"
   ]
  },
  {
   "cell_type": "code",
   "execution_count": 45,
   "metadata": {},
   "outputs": [
    {
     "data": {
      "text/plain": [
       "array([0.90806839, 0.9059453 , 0.91143672])"
      ]
     },
     "execution_count": 45,
     "metadata": {},
     "output_type": "execute_result"
    }
   ],
   "source": [
    "sgd_accuracy_scores"
   ]
  },
  {
   "cell_type": "code",
   "execution_count": 46,
   "metadata": {},
   "outputs": [
    {
     "name": "stderr",
     "output_type": "stream",
     "text": [
      "[Parallel(n_jobs=3)]: Using backend LokyBackend with 3 concurrent workers.\n",
      "[Parallel(n_jobs=3)]: Done   3 out of   3 | elapsed:    4.2s remaining:    0.0s\n",
      "[Parallel(n_jobs=3)]: Done   3 out of   3 | elapsed:    4.2s finished\n"
     ]
    }
   ],
   "source": [
    "_prng = np.random.RandomState(42)\n",
    "random_forest_classifier = ensemble.RandomForestClassifier(n_estimators=100, random_state=_prng, n_jobs=16)\n",
    "\n",
    "stratified_k_fold = model_selection.StratifiedKFold(n_splits=3, random_state=_prng)\n",
    "random_forest_predictions = model_selection.cross_val_predict(random_forest_classifier,\n",
    "                                                              Z,\n",
    "                                                              training_target,\n",
    "                                                              cv=stratified_k_fold,\n",
    "                                                              n_jobs=3,\n",
    "                                                              verbose=10)"
   ]
  },
  {
   "cell_type": "code",
   "execution_count": 47,
   "metadata": {},
   "outputs": [
    {
     "name": "stderr",
     "output_type": "stream",
     "text": [
      "[Parallel(n_jobs=3)]: Using backend LokyBackend with 3 concurrent workers.\n",
      "[Parallel(n_jobs=3)]: Done   3 out of   3 | elapsed:    3.7s remaining:    0.0s\n",
      "[Parallel(n_jobs=3)]: Done   3 out of   3 | elapsed:    3.7s finished\n"
     ]
    }
   ],
   "source": [
    "_prng = np.random.RandomState(42)\n",
    "stratified_k_fold = model_selection.StratifiedKFold(n_splits=3, random_state=_prng)\n",
    "random_forest_accuracy_scores = model_selection.cross_val_score(random_forest_classifier, Z, training_target, scoring=\"accuracy\", cv=stratified_k_fold, n_jobs=3, verbose=10)"
   ]
  },
  {
   "cell_type": "code",
   "execution_count": 48,
   "metadata": {},
   "outputs": [
    {
     "data": {
      "text/plain": [
       "array([0.96625675, 0.96344817, 0.96714507])"
      ]
     },
     "execution_count": 48,
     "metadata": {},
     "output_type": "execute_result"
    }
   ],
   "source": [
    "random_forest_accuracy_scores"
   ]
  },
  {
   "cell_type": "markdown",
   "metadata": {},
   "source": [
    "# Error Analysis"
   ]
  },
  {
   "cell_type": "code",
   "execution_count": 50,
   "metadata": {},
   "outputs": [
    {
     "data": {
      "text/plain": [
       "array([[5845,    1,    9,    0,    4,    7,   18,    1,   35,    3],\n",
       "       [   1, 6641,   32,   12,   14,    6,    7,   11,   12,    6],\n",
       "       [  32,   11, 5749,   25,   32,    3,   17,   43,   35,   11],\n",
       "       [  11,    7,   94, 5805,    2,   63,    7,   48,   62,   32],\n",
       "       [  11,   10,    9,    0, 5657,    0,   32,   11,   17,   95],\n",
       "       [  24,    8,   12,   79,   12, 5189,   43,    3,   29,   22],\n",
       "       [  29,   10,    4,    0,    5,   41, 5814,    0,   15,    0],\n",
       "       [   7,   19,   62,    7,   42,    0,    0, 6046,    7,   75],\n",
       "       [  13,   34,   31,   65,   26,   40,   24,    6, 5548,   64],\n",
       "       [  21,   13,   14,   75,   70,   21,    3,   51,   38, 5643]])"
      ]
     },
     "execution_count": 50,
     "metadata": {},
     "output_type": "execute_result"
    }
   ],
   "source": [
    "metrics.confusion_matrix(training_target, random_forest_predictions)"
   ]
  },
  {
   "cell_type": "code",
   "execution_count": 59,
   "metadata": {},
   "outputs": [
    {
     "data": {
      "image/png": "[encoded data removed]",
      "text/plain": [
       "<Figure size 432x288 with 1 Axes>"
      ]
     },
     "metadata": {
      "needs_background": "light"
     },
     "output_type": "display_data"
    }
   ],
   "source": [
    "fig, ax = plt.subplots(1, 1)\n",
    "_confusion_matrix = metrics.confusion_matrix(training_target, random_forest_predictions)\n",
    "_ = ax.matshow(_confusion_matrix)\n",
    "_ = ax.set_xlabel(\"Predicted Label\")\n",
    "_ = ax.set_ylabel(\"Actual Label\")"
   ]
  },
  {
   "cell_type": "code",
   "execution_count": 89,
   "metadata": {},
   "outputs": [
    {
     "data": {
      "image/png": "[encoded data removed]",
      "text/plain": [
       "<Figure size 432x288 with 2 Axes>"
      ]
     },
     "metadata": {
      "needs_background": "light"
     },
     "output_type": "display_data"
    }
   ],
   "source": [
    "from matplotlib import colors\n",
    "\n",
    "fig, ax = plt.subplots(1, 1)\n",
    "_confusion_matrix = metrics.confusion_matrix(training_target, random_forest_predictions)\n",
    "_normed_confusion_matrix = _confusion_matrix / _confusion_matrix.sum(axis=1, keepdims=True)\n",
    "\n",
    "_A = np.where(_normed_confusion_matrix < 1e-4, 1e-4, _normed_confusion_matrix)\n",
    "_image = ax.matshow(_A, norm=colors.LogNorm(1e-4, 1))\n",
    "_ = ax.set_xlabel(\"Predicted Label\")\n",
    "_ = ax.set_ylabel(\"Actual Label\")\n",
    "\n",
    "_ = fig.colorbar(_image, ax=ax, extend='min')"
   ]
  },
  {
   "cell_type": "markdown",
   "metadata": {},
   "source": [
    "# Multilabel Classification"
   ]
  },
  {
   "cell_type": "code",
   "execution_count": 95,
   "metadata": {},
   "outputs": [],
   "source": [
    "# can use a one-hot encoding to create multilabel targets\n",
    "multilabel_training_target = np.c_[training_target >= 7, training_target % 2 == 1]"
   ]
  },
  {
   "cell_type": "code",
   "execution_count": 100,
   "metadata": {},
   "outputs": [
    {
     "name": "stderr",
     "output_type": "stream",
     "text": [
      "[Parallel(n_jobs=3)]: Using backend LokyBackend with 3 concurrent workers.\n",
      "[Parallel(n_jobs=3)]: Done   3 out of   3 | elapsed: 17.9min remaining:    0.0s\n",
      "[Parallel(n_jobs=3)]: Done   3 out of   3 | elapsed: 17.9min finished\n"
     ]
    }
   ],
   "source": [
    "knn_classifier = neighbors.KNeighborsClassifier()\n",
    "\n",
    "_prng = np.random.RandomState(42)\n",
    "k_fold = model_selection.KFold(n_splits=3, random_state=_prng)\n",
    "knn_accuracy_scores = model_selection.cross_val_score(knn_classifier, Z, multilabel_training_target, scoring=\"accuracy\", cv=k_fold, n_jobs=3, verbose=10)"
   ]
  },
  {
   "cell_type": "code",
   "execution_count": 101,
   "metadata": {},
   "outputs": [
    {
     "data": {
      "text/plain": [
       "array([0.97475, 0.976  , 0.97315])"
      ]
     },
     "execution_count": 101,
     "metadata": {},
     "output_type": "execute_result"
    }
   ],
   "source": [
    "knn_accuracy_scores"
   ]
  },
  {
   "cell_type": "markdown",
   "metadata": {},
   "source": [
    "# Multioutput Classification"
   ]
  },
  {
   "cell_type": "code",
   "execution_count": null,
   "metadata": {},
   "outputs": [],
   "source": []
  },
  {
   "cell_type": "markdown",
   "metadata": {},
   "source": [
    "# Exercises"
   ]
  },
  {
   "cell_type": "code",
   "execution_count": 110,
   "metadata": {},
   "outputs": [
    {
     "data": {
      "text/plain": [
       "KNeighborsClassifier(algorithm='auto', leaf_size=30, metric='minkowski',\n",
       "                     metric_params=None, n_jobs=None, n_neighbors=5, p=2,\n",
       "                     weights='uniform')"
      ]
     },
     "execution_count": 110,
     "metadata": {},
     "output_type": "execute_result"
    }
   ],
   "source": [
    "_transformed_training_features = min_max_scaler.fit_transform(training_features)\n",
    "estimator = neighbors.KNeighborsClassifier()\n",
    "estimator.fit(_transformed_training_features, training_target)"
   ]
  },
  {
   "cell_type": "code",
   "execution_count": 123,
   "metadata": {},
   "outputs": [],
   "source": [
    "_param_grid = {\n",
    "    \"n_neighbors\": [1, 5, 10, 15],\n",
    "    \"weights\": [\"uniform\", \"distance\"],\n",
    "    \"leaf_size\": [15, 30, 60]\n",
    "}\n",
    "\n",
    "_prng = np.random.RandomState(42)\n",
    "_cv = model_selection.KFold(n_splits=3, random_state=_prng)\n",
    "grid_search_cv = model_selection.GridSearchCV(estimator, _param_grid, n_jobs=72, cv=_cv, verbose=10)"
   ]
  },
  {
   "cell_type": "code",
   "execution_count": 124,
   "metadata": {},
   "outputs": [
    {
     "name": "stdout",
     "output_type": "stream",
     "text": [
      "Fitting 3 folds for each of 24 candidates, totalling 72 fits\n"
     ]
    },
    {
     "name": "stderr",
     "output_type": "stream",
     "text": [
      "[Parallel(n_jobs=72)]: Using backend LokyBackend with 72 concurrent workers.\n",
      "[Parallel(n_jobs=72)]: Done   9 out of  72 | elapsed: 54.6min remaining: 382.2min\n",
      "[Parallel(n_jobs=72)]: Done  17 out of  72 | elapsed: 55.1min remaining: 178.4min\n",
      "[Parallel(n_jobs=72)]: Done  25 out of  72 | elapsed: 56.6min remaining: 106.5min\n",
      "[Parallel(n_jobs=72)]: Done  33 out of  72 | elapsed: 57.5min remaining: 67.9min\n",
      "[Parallel(n_jobs=72)]: Done  41 out of  72 | elapsed: 57.7min remaining: 43.6min\n",
      "[Parallel(n_jobs=72)]: Done  49 out of  72 | elapsed: 60.9min remaining: 28.6min\n",
      "[Parallel(n_jobs=72)]: Done  57 out of  72 | elapsed: 61.3min remaining: 16.1min\n",
      "[Parallel(n_jobs=72)]: Done  65 out of  72 | elapsed: 61.6min remaining:  6.6min\n",
      "[Parallel(n_jobs=72)]: Done  72 out of  72 | elapsed: 61.8min finished\n"
     ]
    },
    {
     "data": {
      "text/plain": [
       "GridSearchCV(cv=KFold(n_splits=3, random_state=RandomState(MT19937) at 0x150C30017888,\n",
       "   shuffle=False),\n",
       "             error_score='raise-deprecating',\n",
       "             estimator=KNeighborsClassifier(algorithm='auto', leaf_size=30,\n",
       "                                            metric='minkowski',\n",
       "                                            metric_params=None, n_jobs=None,\n",
       "                                            n_neighbors=5, p=2,\n",
       "                                            weights='uniform'),\n",
       "             iid='warn', n_jobs=72,\n",
       "             param_grid={'leaf_size': [15, 30, 60],\n",
       "                         'n_neighbors': [1, 5, 10, 15],\n",
       "                         'weights': ['uniform', 'distance']},\n",
       "             pre_dispatch=72, refit=True, return_train_score=False,\n",
       "             scoring=None, verbose=10)"
      ]
     },
     "execution_count": 124,
     "metadata": {},
     "output_type": "execute_result"
    }
   ],
   "source": [
    "grid_search_cv.fit(_transformed_training_features, training_target)"
   ]
  },
  {
   "cell_type": "code",
   "execution_count": 127,
   "metadata": {},
   "outputs": [
    {
     "data": {
      "text/plain": [
       "{'leaf_size': 15, 'n_neighbors': 5, 'weights': 'distance'}"
      ]
     },
     "execution_count": 127,
     "metadata": {},
     "output_type": "execute_result"
    }
   ],
   "source": [
    "grid_search_cv.best_params_"
   ]
  },
  {
   "cell_type": "code",
   "execution_count": 125,
   "metadata": {},
   "outputs": [],
   "source": [
    "_transformed_testing_features = min_max_scaler.transform(testing_features)\n",
    "testing_predictions = grid_search_cv.predict(_transformed_testing_features)"
   ]
  },
  {
   "cell_type": "code",
   "execution_count": 126,
   "metadata": {},
   "outputs": [
    {
     "data": {
      "text/plain": [
       "0.9691"
      ]
     },
     "execution_count": 126,
     "metadata": {},
     "output_type": "execute_result"
    }
   ],
   "source": [
    "metrics.accuracy_score(testing_target, testing_predictions)"
   ]
  },
  {
   "cell_type": "code",
   "execution_count": null,
   "metadata": {},
   "outputs": [],
   "source": []
  }
 ],
 "metadata": {
  "kernelspec": {
   "display_name": "Python 3",
   "language": "python",
   "name": "python3"
  },
  "language_info": {
   "codemirror_mode": {
    "name": "ipython",
    "version": 3
   },
   "file_extension": ".py",
   "mimetype": "text/x-python",
   "name": "python",
   "nbconvert_exporter": "python",
   "pygments_lexer": "ipython3",
   "version": "3.6.7"
  }
 },
 "nbformat": 4,
 "nbformat_minor": 4
}

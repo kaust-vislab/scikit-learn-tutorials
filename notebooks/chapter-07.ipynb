{
 "cells": [
  {
   "cell_type": "code",
   "execution_count": 66,
   "metadata": {},
   "outputs": [],
   "source": [
    "import matplotlib.pyplot as plt\n",
    "import numpy as np\n",
    "import pandas as pd\n",
    "import seaborn as sns\n",
    "from sklearn import ensemble, linear_model, metrics, model_selection, pipeline, preprocessing, svm, tree"
   ]
  },
  {
   "cell_type": "code",
   "execution_count": 67,
   "metadata": {},
   "outputs": [],
   "source": [
    "%matplotlib inline"
   ]
  },
  {
   "cell_type": "code",
   "execution_count": 2,
   "metadata": {},
   "outputs": [],
   "source": [
    "training_df = pd.read_csv(\"../data/digit-recognizer/train.csv\")\n",
    "testing_df = pd.read_csv(\"../data/digit-recognizer/test.csv\")"
   ]
  },
  {
   "cell_type": "code",
   "execution_count": 3,
   "metadata": {},
   "outputs": [],
   "source": [
    "preprocessing_pipeline = pipeline.Pipeline(\n",
    "    steps=[(\"min_max_scaler\", preprocessing.MinMaxScaler())],\n",
    "    verbose=True\n",
    ")"
   ]
  },
  {
   "cell_type": "code",
   "execution_count": 4,
   "metadata": {},
   "outputs": [
    {
     "name": "stdout",
     "output_type": "stream",
     "text": [
      "[Pipeline] .... (step 1 of 1) Processing min_max_scaler, total=   0.3s\n"
     ]
    }
   ],
   "source": [
    "X = training_df.drop(\"label\", axis=1)\n",
    "y = training_df.loc[:, \"label\"]\n",
    "Z = preprocessing_pipeline.fit_transform(X)"
   ]
  },
  {
   "cell_type": "code",
   "execution_count": 5,
   "metadata": {},
   "outputs": [],
   "source": [
    "_random_state = np.random.RandomState(42)\n",
    "logistic_regression = linear_model.LogisticRegression(max_iter=1e3, multi_class=\"multinomial\", penalty=\"l2\", solver=\"sag\", random_state=_random_state)\n",
    "logistic_regression_scores = model_selection.cross_val_score(_classifier, Z, y, cv=5, n_jobs=5)"
   ]
  },
  {
   "cell_type": "code",
   "execution_count": 6,
   "metadata": {},
   "outputs": [
    {
     "data": {
      "text/plain": [
       "0.9183336285512185"
      ]
     },
     "execution_count": 6,
     "metadata": {},
     "output_type": "execute_result"
    }
   ],
   "source": [
    "logistic_regression_scores.mean()"
   ]
  },
  {
   "cell_type": "code",
   "execution_count": 16,
   "metadata": {},
   "outputs": [],
   "source": [
    "_random_state = np.random.RandomState(42)\n",
    "svc = svm.SVC(gamma=\"scale\", probability=True, random_state=_random_state)\n",
    "svc_scores = model_selection.cross_val_score(svc, Z, y, cv=5, n_jobs=5)"
   ]
  },
  {
   "cell_type": "code",
   "execution_count": 17,
   "metadata": {},
   "outputs": [
    {
     "data": {
      "text/plain": [
       "0.9755954947412935"
      ]
     },
     "execution_count": 17,
     "metadata": {},
     "output_type": "execute_result"
    }
   ],
   "source": [
    "svc_scores.mean()"
   ]
  },
  {
   "cell_type": "code",
   "execution_count": 18,
   "metadata": {},
   "outputs": [],
   "source": [
    "_random_state = np.random.RandomState(42)\n",
    "decision_tree = tree.DecisionTreeClassifier(random_state=_random_state)\n",
    "decision_tree_scores = model_selection.cross_val_score(decision_tree, Z, y, cv=5, n_jobs=5)"
   ]
  },
  {
   "cell_type": "code",
   "execution_count": 19,
   "metadata": {},
   "outputs": [
    {
     "data": {
      "text/plain": [
       "0.85445227421564"
      ]
     },
     "execution_count": 19,
     "metadata": {},
     "output_type": "execute_result"
    }
   ],
   "source": [
    "decision_tree_scores.mean()"
   ]
  },
  {
   "cell_type": "markdown",
   "metadata": {},
   "source": [
    "# Voting Classifiers"
   ]
  },
  {
   "cell_type": "code",
   "execution_count": 20,
   "metadata": {},
   "outputs": [],
   "source": [
    "_estimators = [\n",
    "    (\"logistic_regression\", logistic_regression),\n",
    "    (\"support_vector_classifier\", svc),\n",
    "    (\"decision_tree_classifier\", decision_tree)\n",
    "]\n",
    "_n_jobs = len(_estimators)\n",
    "voting_classifier = ensemble.VotingClassifier(_estimators, voting=\"soft\", n_jobs=_n_jobs)"
   ]
  },
  {
   "cell_type": "code",
   "execution_count": 21,
   "metadata": {},
   "outputs": [],
   "source": [
    "voting_classifier_scores = model_selection.cross_val_score(voting_classifier, Z, y, cv=5, n_jobs=5)"
   ]
  },
  {
   "cell_type": "code",
   "execution_count": 22,
   "metadata": {},
   "outputs": [
    {
     "data": {
      "text/plain": [
       "0.9556670020218991"
      ]
     },
     "execution_count": 22,
     "metadata": {},
     "output_type": "execute_result"
    }
   ],
   "source": [
    "voting_classifier_scores.mean()"
   ]
  },
  {
   "cell_type": "markdown",
   "metadata": {},
   "source": [
    "# Bagging and Pasting\n",
    "\n",
    "Another approach is to use the same training algorithm for every predictor, but to train them on different random subsets of the training set."
   ]
  },
  {
   "cell_type": "code",
   "execution_count": 39,
   "metadata": {},
   "outputs": [],
   "source": [
    "# sampling training samples with replacement is called bagging\n",
    "_random_state = np.random.RandomState(42)\n",
    "bagging_classifier = ensemble.BaggingClassifier(base_estimator=decision_tree,\n",
    "                                                n_estimators=100,\n",
    "                                                bootstrap=True,\n",
    "                                                oob_score= True,\n",
    "                                                n_jobs=100,\n",
    "                                                random_state=_random_state)"
   ]
  },
  {
   "cell_type": "code",
   "execution_count": 40,
   "metadata": {},
   "outputs": [
    {
     "data": {
      "text/plain": [
       "BaggingClassifier(base_estimator=DecisionTreeClassifier(class_weight=None,\n",
       "                                                        criterion='gini',\n",
       "                                                        max_depth=None,\n",
       "                                                        max_features=None,\n",
       "                                                        max_leaf_nodes=None,\n",
       "                                                        min_impurity_decrease=0.0,\n",
       "                                                        min_impurity_split=None,\n",
       "                                                        min_samples_leaf=1,\n",
       "                                                        min_samples_split=2,\n",
       "                                                        min_weight_fraction_leaf=0.0,\n",
       "                                                        presort=False,\n",
       "                                                        random_state=RandomState(MT19937) at 0x153A1FF3E780,\n",
       "                                                        splitter='best'),\n",
       "                  bootstrap=True, bootstrap_features=False, max_features=1.0,\n",
       "                  max_samples=1.0, n_estimators=100, n_jobs=100, oob_score=True,\n",
       "                  random_state=RandomState(MT19937) at 0x153A1FF3E570,\n",
       "                  verbose=0, warm_start=False)"
      ]
     },
     "execution_count": 40,
     "metadata": {},
     "output_type": "execute_result"
    }
   ],
   "source": [
    "bagging_classifier.fit(Z, y)"
   ]
  },
  {
   "cell_type": "code",
   "execution_count": 42,
   "metadata": {},
   "outputs": [
    {
     "data": {
      "text/plain": [
       "0.9446666666666667"
      ]
     },
     "execution_count": 42,
     "metadata": {},
     "output_type": "execute_result"
    }
   ],
   "source": [
    "bagging_classifier.oob_score_"
   ]
  },
  {
   "cell_type": "code",
   "execution_count": 36,
   "metadata": {},
   "outputs": [],
   "source": [
    "# can use cross-validation to confirm that oob_score is a good measure of out-of-sample accuracy\n",
    "bagging_scores = model_selection.cross_val_score(bagging_classifier, Z, y, cv=5, n_jobs=5)"
   ]
  },
  {
   "cell_type": "code",
   "execution_count": 37,
   "metadata": {},
   "outputs": [
    {
     "data": {
      "text/plain": [
       "0.9474276609338137"
      ]
     },
     "execution_count": 37,
     "metadata": {},
     "output_type": "execute_result"
    }
   ],
   "source": [
    "bagging_scores.mean()"
   ]
  },
  {
   "cell_type": "code",
   "execution_count": 30,
   "metadata": {},
   "outputs": [],
   "source": [
    "# sampling training samples without replacement is called pasting\n",
    "_random_state = np.random.RandomState(42)\n",
    "pasting_classifier = ensemble.BaggingClassifier(base_estimator=decision_tree,\n",
    "                                                n_estimators=100,\n",
    "                                                bootstrap=False,\n",
    "                                                n_jobs=100,\n",
    "                                                random_state=_random_state)"
   ]
  },
  {
   "cell_type": "code",
   "execution_count": 31,
   "metadata": {},
   "outputs": [],
   "source": [
    "pasting_scores = model_selection.cross_val_score(pasting_classifier, Z, y, cv=5, n_jobs=5)"
   ]
  },
  {
   "cell_type": "code",
   "execution_count": 34,
   "metadata": {},
   "outputs": [
    {
     "data": {
      "text/plain": [
       "0.8704999497076589"
      ]
     },
     "execution_count": 34,
     "metadata": {},
     "output_type": "execute_result"
    }
   ],
   "source": [
    "# bagging is generally preferred to pasting\n",
    "pasting_scores.mean()"
   ]
  },
  {
   "cell_type": "markdown",
   "metadata": {},
   "source": [
    "# Random Patches and Random Subspaces"
   ]
  },
  {
   "cell_type": "code",
   "execution_count": 43,
   "metadata": {},
   "outputs": [],
   "source": [
    "_random_state = np.random.RandomState(42)\n",
    "random_patches_classifier = ensemble.BaggingClassifier(base_estimator=decision_tree,\n",
    "                                                       n_estimators=100,\n",
    "                                                       bootstrap=True,\n",
    "                                                       bootstrap_features=True,\n",
    "                                                       oob_score=True,\n",
    "                                                       n_jobs=100,\n",
    "                                                       random_state=_random_state)"
   ]
  },
  {
   "cell_type": "code",
   "execution_count": 44,
   "metadata": {},
   "outputs": [
    {
     "data": {
      "text/plain": [
       "BaggingClassifier(base_estimator=DecisionTreeClassifier(class_weight=None,\n",
       "                                                        criterion='gini',\n",
       "                                                        max_depth=None,\n",
       "                                                        max_features=None,\n",
       "                                                        max_leaf_nodes=None,\n",
       "                                                        min_impurity_decrease=0.0,\n",
       "                                                        min_impurity_split=None,\n",
       "                                                        min_samples_leaf=1,\n",
       "                                                        min_samples_split=2,\n",
       "                                                        min_weight_fraction_leaf=0.0,\n",
       "                                                        presort=False,\n",
       "                                                        random_state=RandomState(MT19937) at 0x153A1FF3E780,\n",
       "                                                        splitter='best'),\n",
       "                  bootstrap=True, bootstrap_features=True, max_features=1.0,\n",
       "                  max_samples=1.0, n_estimators=100, n_jobs=100, oob_score=True,\n",
       "                  random_state=RandomState(MT19937) at 0x153A1FF3EA98,\n",
       "                  verbose=0, warm_start=False)"
      ]
     },
     "execution_count": 44,
     "metadata": {},
     "output_type": "execute_result"
    }
   ],
   "source": [
    "random_patches_classifier.fit(Z, y)"
   ]
  },
  {
   "cell_type": "code",
   "execution_count": 45,
   "metadata": {},
   "outputs": [
    {
     "data": {
      "text/plain": [
       "0.9570952380952381"
      ]
     },
     "execution_count": 45,
     "metadata": {},
     "output_type": "execute_result"
    }
   ],
   "source": [
    "random_patches_classifier.oob_score_"
   ]
  },
  {
   "cell_type": "code",
   "execution_count": 47,
   "metadata": {},
   "outputs": [],
   "source": [
    "_random_state = np.random.RandomState(42)\n",
    "random_subspaces_classifier = ensemble.BaggingClassifier(base_estimator=decision_tree,\n",
    "                                                         n_estimators=100,\n",
    "                                                         bootstrap=False,\n",
    "                                                         max_samples=1.0,\n",
    "                                                         bootstrap_features=True,\n",
    "                                                         max_features=1.0, # could also be less than 1!\n",
    "                                                         n_jobs=100,\n",
    "                                                         random_state=_random_state)"
   ]
  },
  {
   "cell_type": "code",
   "execution_count": 49,
   "metadata": {},
   "outputs": [],
   "source": [
    "random_subspaces_scores = model_selection.cross_val_score(random_subspaces_classifier, Z, y, cv=5, n_jobs=5)"
   ]
  },
  {
   "cell_type": "code",
   "execution_count": 50,
   "metadata": {},
   "outputs": [
    {
     "data": {
      "text/plain": [
       "0.9598096473985512"
      ]
     },
     "execution_count": 50,
     "metadata": {},
     "output_type": "execute_result"
    }
   ],
   "source": [
    "random_subspaces_scores.mean()"
   ]
  },
  {
   "cell_type": "markdown",
   "metadata": {},
   "source": [
    "# Random Forests"
   ]
  },
  {
   "cell_type": "code",
   "execution_count": 53,
   "metadata": {},
   "outputs": [],
   "source": [
    "_random_state = np.random.RandomState(42)\n",
    "random_forest_classifier = ensemble.RandomForestClassifier(n_estimators=100,\n",
    "                                                           boostrap=True,\n",
    "                                                           random_state=_random_state,\n",
    "                                                           oob_score=True,\n",
    "                                                           n_jobs=100)"
   ]
  },
  {
   "cell_type": "code",
   "execution_count": 54,
   "metadata": {},
   "outputs": [
    {
     "data": {
      "text/plain": [
       "RandomForestClassifier(bootstrap=True, class_weight=None, criterion='gini',\n",
       "                       max_depth=None, max_features='auto', max_leaf_nodes=None,\n",
       "                       min_impurity_decrease=0.0, min_impurity_split=None,\n",
       "                       min_samples_leaf=1, min_samples_split=2,\n",
       "                       min_weight_fraction_leaf=0.0, n_estimators=100,\n",
       "                       n_jobs=100, oob_score=True,\n",
       "                       random_state=RandomState(MT19937) at 0x153A1FF3ECA8,\n",
       "                       verbose=0, warm_start=False)"
      ]
     },
     "execution_count": 54,
     "metadata": {},
     "output_type": "execute_result"
    }
   ],
   "source": [
    "random_forest_classifier.fit(Z, y)"
   ]
  },
  {
   "cell_type": "code",
   "execution_count": 55,
   "metadata": {},
   "outputs": [
    {
     "data": {
      "text/plain": [
       "0.9618571428571429"
      ]
     },
     "execution_count": 55,
     "metadata": {},
     "output_type": "execute_result"
    }
   ],
   "source": [
    "random_forest_classifier.oob_score_"
   ]
  },
  {
   "cell_type": "markdown",
   "metadata": {},
   "source": [
    "## Feature Importances"
   ]
  },
  {
   "cell_type": "code",
   "execution_count": 69,
   "metadata": {},
   "outputs": [
    {
     "data": {
      "image/png": "[encoded data removed]",
      "text/plain": [
       "<Figure size 864x648 with 2 Axes>"
      ]
     },
     "metadata": {
      "needs_background": "light"
     },
     "output_type": "display_data"
    }
   ],
   "source": [
    "_importances = (random_forest_classifier.feature_importances_\n",
    "                                        .reshape(28, 28))\n",
    "fig, ax = plt.subplots(figsize=(12, 9))\n",
    "sns.heatmap(_importances, square=True, ax=ax);"
   ]
  },
  {
   "cell_type": "markdown",
   "metadata": {},
   "source": [
    "## Extra Trees"
   ]
  },
  {
   "cell_type": "code",
   "execution_count": 59,
   "metadata": {},
   "outputs": [],
   "source": [
    "_random_state = np.random.RandomState(42)\n",
    "extra_trees_classifier = ensemble.ExtraTreesClassifier(bootstrap=True,\n",
    "                                                       n_estimators=100,\n",
    "                                                       oob_score=True,\n",
    "                                                       n_jobs=100,\n",
    "                                                       random_state=_random_state)"
   ]
  },
  {
   "cell_type": "code",
   "execution_count": 60,
   "metadata": {},
   "outputs": [
    {
     "data": {
      "text/plain": [
       "ExtraTreesClassifier(bootstrap=True, class_weight=None, criterion='gini',\n",
       "                     max_depth=None, max_features='auto', max_leaf_nodes=None,\n",
       "                     min_impurity_decrease=0.0, min_impurity_split=None,\n",
       "                     min_samples_leaf=1, min_samples_split=2,\n",
       "                     min_weight_fraction_leaf=0.0, n_estimators=100, n_jobs=100,\n",
       "                     oob_score=True,\n",
       "                     random_state=RandomState(MT19937) at 0x153A1309C258,\n",
       "                     verbose=0, warm_start=False)"
      ]
     },
     "execution_count": 60,
     "metadata": {},
     "output_type": "execute_result"
    }
   ],
   "source": [
    "extra_trees_classifier.fit(Z, y)"
   ]
  },
  {
   "cell_type": "code",
   "execution_count": 61,
   "metadata": {},
   "outputs": [
    {
     "data": {
      "text/plain": [
       "0.9614285714285714"
      ]
     },
     "execution_count": 61,
     "metadata": {},
     "output_type": "execute_result"
    }
   ],
   "source": [
    "extra_trees_classifier.oob_score_"
   ]
  },
  {
   "cell_type": "markdown",
   "metadata": {},
   "source": [
    "# Boosting"
   ]
  },
  {
   "cell_type": "markdown",
   "metadata": {},
   "source": [
    "## AdaBoost"
   ]
  },
  {
   "cell_type": "code",
   "execution_count": 70,
   "metadata": {
    "collapsed": true,
    "jupyter": {
     "outputs_hidden": true
    }
   },
   "outputs": [
    {
     "data": {
      "text/plain": [
       "\u001b[0;31mInit signature:\u001b[0m\n",
       "\u001b[0mensemble\u001b[0m\u001b[0;34m.\u001b[0m\u001b[0mAdaBoostClassifier\u001b[0m\u001b[0;34m(\u001b[0m\u001b[0;34m\u001b[0m\n",
       "\u001b[0;34m\u001b[0m    \u001b[0mbase_estimator\u001b[0m\u001b[0;34m=\u001b[0m\u001b[0;32mNone\u001b[0m\u001b[0;34m,\u001b[0m\u001b[0;34m\u001b[0m\n",
       "\u001b[0;34m\u001b[0m    \u001b[0mn_estimators\u001b[0m\u001b[0;34m=\u001b[0m\u001b[0;36m50\u001b[0m\u001b[0;34m,\u001b[0m\u001b[0;34m\u001b[0m\n",
       "\u001b[0;34m\u001b[0m    \u001b[0mlearning_rate\u001b[0m\u001b[0;34m=\u001b[0m\u001b[0;36m1.0\u001b[0m\u001b[0;34m,\u001b[0m\u001b[0;34m\u001b[0m\n",
       "\u001b[0;34m\u001b[0m    \u001b[0malgorithm\u001b[0m\u001b[0;34m=\u001b[0m\u001b[0;34m'SAMME.R'\u001b[0m\u001b[0;34m,\u001b[0m\u001b[0;34m\u001b[0m\n",
       "\u001b[0;34m\u001b[0m    \u001b[0mrandom_state\u001b[0m\u001b[0;34m=\u001b[0m\u001b[0;32mNone\u001b[0m\u001b[0;34m,\u001b[0m\u001b[0;34m\u001b[0m\n",
       "\u001b[0;34m\u001b[0m\u001b[0;34m)\u001b[0m\u001b[0;34m\u001b[0m\u001b[0;34m\u001b[0m\u001b[0m\n",
       "\u001b[0;31mDocstring:\u001b[0m     \n",
       "An AdaBoost classifier.\n",
       "\n",
       "An AdaBoost [1] classifier is a meta-estimator that begins by fitting a\n",
       "classifier on the original dataset and then fits additional copies of the\n",
       "classifier on the same dataset but where the weights of incorrectly\n",
       "classified instances are adjusted such that subsequent classifiers focus\n",
       "more on difficult cases.\n",
       "\n",
       "This class implements the algorithm known as AdaBoost-SAMME [2].\n",
       "\n",
       "Read more in the :ref:`User Guide <adaboost>`.\n",
       "\n",
       "Parameters\n",
       "----------\n",
       "base_estimator : object, optional (default=None)\n",
       "    The base estimator from which the boosted ensemble is built.\n",
       "    Support for sample weighting is required, as well as proper\n",
       "    ``classes_`` and ``n_classes_`` attributes. If ``None``, then\n",
       "    the base estimator is ``DecisionTreeClassifier(max_depth=1)``\n",
       "\n",
       "n_estimators : integer, optional (default=50)\n",
       "    The maximum number of estimators at which boosting is terminated.\n",
       "    In case of perfect fit, the learning procedure is stopped early.\n",
       "\n",
       "learning_rate : float, optional (default=1.)\n",
       "    Learning rate shrinks the contribution of each classifier by\n",
       "    ``learning_rate``. There is a trade-off between ``learning_rate`` and\n",
       "    ``n_estimators``.\n",
       "\n",
       "algorithm : {'SAMME', 'SAMME.R'}, optional (default='SAMME.R')\n",
       "    If 'SAMME.R' then use the SAMME.R real boosting algorithm.\n",
       "    ``base_estimator`` must support calculation of class probabilities.\n",
       "    If 'SAMME' then use the SAMME discrete boosting algorithm.\n",
       "    The SAMME.R algorithm typically converges faster than SAMME,\n",
       "    achieving a lower test error with fewer boosting iterations.\n",
       "\n",
       "random_state : int, RandomState instance or None, optional (default=None)\n",
       "    If int, random_state is the seed used by the random number generator;\n",
       "    If RandomState instance, random_state is the random number generator;\n",
       "    If None, the random number generator is the RandomState instance used\n",
       "    by `np.random`.\n",
       "\n",
       "Attributes\n",
       "----------\n",
       "estimators_ : list of classifiers\n",
       "    The collection of fitted sub-estimators.\n",
       "\n",
       "classes_ : array of shape = [n_classes]\n",
       "    The classes labels.\n",
       "\n",
       "n_classes_ : int\n",
       "    The number of classes.\n",
       "\n",
       "estimator_weights_ : array of floats\n",
       "    Weights for each estimator in the boosted ensemble.\n",
       "\n",
       "estimator_errors_ : array of floats\n",
       "    Classification error for each estimator in the boosted\n",
       "    ensemble.\n",
       "\n",
       "feature_importances_ : array of shape = [n_features]\n",
       "    The feature importances if supported by the ``base_estimator``.\n",
       "\n",
       "Examples\n",
       "--------\n",
       ">>> from sklearn.ensemble import AdaBoostClassifier\n",
       ">>> from sklearn.datasets import make_classification\n",
       ">>> X, y = make_classification(n_samples=1000, n_features=4,\n",
       "...                            n_informative=2, n_redundant=0,\n",
       "...                            random_state=0, shuffle=False)\n",
       ">>> clf = AdaBoostClassifier(n_estimators=100, random_state=0)\n",
       ">>> clf.fit(X, y)  # doctest: +NORMALIZE_WHITESPACE\n",
       "AdaBoostClassifier(algorithm='SAMME.R', base_estimator=None,\n",
       "        learning_rate=1.0, n_estimators=100, random_state=0)\n",
       ">>> clf.feature_importances_  # doctest: +ELLIPSIS\n",
       "array([0.28..., 0.42..., 0.14..., 0.16...])\n",
       ">>> clf.predict([[0, 0, 0, 0]])\n",
       "array([1])\n",
       ">>> clf.score(X, y)  # doctest: +ELLIPSIS\n",
       "0.983...\n",
       "\n",
       "See also\n",
       "--------\n",
       "AdaBoostRegressor, GradientBoostingClassifier,\n",
       "sklearn.tree.DecisionTreeClassifier\n",
       "\n",
       "References\n",
       "----------\n",
       ".. [1] Y. Freund, R. Schapire, \"A Decision-Theoretic Generalization of\n",
       "       on-Line Learning and an Application to Boosting\", 1995.\n",
       "\n",
       ".. [2] J. Zhu, H. Zou, S. Rosset, T. Hastie, \"Multi-class AdaBoost\", 2009.\n",
       "\u001b[0;31mFile:\u001b[0m           ~/Research/kaust-vislab/scikit-learn-tutorials/env/lib/python3.6/site-packages/sklearn/ensemble/weight_boosting.py\n",
       "\u001b[0;31mType:\u001b[0m           ABCMeta\n",
       "\u001b[0;31mSubclasses:\u001b[0m     \n"
      ]
     },
     "metadata": {},
     "output_type": "display_data"
    }
   ],
   "source": [
    "ensemble.AdaBoostClassifier?"
   ]
  },
  {
   "cell_type": "code",
   "execution_count": 83,
   "metadata": {},
   "outputs": [],
   "source": [
    "_random_state = np.random.RandomState(42)\n",
    "_base_estimator = tree.DecisionTreeClassifier(max_depth=1, random_state=_random_state)\n",
    "\n",
    "# If AdaBoost ensemble is overfitting the training set, try reducing the n_estimators or more strongly regularizing the base estimator.\n",
    "ada_boost_classifier = ensemble.AdaBoostClassifier(base_estimator=_base_estimator,\n",
    "                                                   n_estimators=100,\n",
    "                                                   learning_rate=1.0,\n",
    "                                                   random_state=_random_state)"
   ]
  },
  {
   "cell_type": "code",
   "execution_count": 84,
   "metadata": {},
   "outputs": [
    {
     "name": "stderr",
     "output_type": "stream",
     "text": [
      "[Parallel(n_jobs=5)]: Using backend LokyBackend with 5 concurrent workers.\n",
      "[Parallel(n_jobs=5)]: Done   2 out of   5 | elapsed:  1.1min remaining:  1.7min\n",
      "[Parallel(n_jobs=5)]: Done   3 out of   5 | elapsed:  1.1min remaining:   44.7s\n",
      "[Parallel(n_jobs=5)]: Done   5 out of   5 | elapsed:  1.1min remaining:    0.0s\n",
      "[Parallel(n_jobs=5)]: Done   5 out of   5 | elapsed:  1.1min finished\n"
     ]
    }
   ],
   "source": [
    "ada_boost_scores = model_selection.cross_val_score(ada_boost_classifier, Z, y, cv=5, n_jobs=5, verbose=10)"
   ]
  },
  {
   "cell_type": "code",
   "execution_count": 85,
   "metadata": {},
   "outputs": [
    {
     "data": {
      "text/plain": [
       "0.7234065452135664"
      ]
     },
     "execution_count": 85,
     "metadata": {},
     "output_type": "execute_result"
    }
   ],
   "source": [
    "ada_boost_scores.mean()"
   ]
  },
  {
   "cell_type": "markdown",
   "metadata": {},
   "source": [
    "## Gradient Boosting\n",
    "\n",
    "Another very popular Boosting algorithm is Gradient Boosting. Just like AdaBoost, Gradient Boosting works by sequentially adding predictors to an ensemble, each one correcting its predecessor. However, instead of tweaking the instance weights at every iteration like AdaBoost does, this method tries to fit the new predictor to the residual errors made by the previous predictor."
   ]
  },
  {
   "cell_type": "code",
   "execution_count": 87,
   "metadata": {
    "collapsed": true,
    "jupyter": {
     "outputs_hidden": true
    }
   },
   "outputs": [
    {
     "data": {
      "text/plain": [
       "\u001b[0;31mInit signature:\u001b[0m\n",
       "\u001b[0mensemble\u001b[0m\u001b[0;34m.\u001b[0m\u001b[0mGradientBoostingClassifier\u001b[0m\u001b[0;34m(\u001b[0m\u001b[0;34m\u001b[0m\n",
       "\u001b[0;34m\u001b[0m    \u001b[0mloss\u001b[0m\u001b[0;34m=\u001b[0m\u001b[0;34m'deviance'\u001b[0m\u001b[0;34m,\u001b[0m\u001b[0;34m\u001b[0m\n",
       "\u001b[0;34m\u001b[0m    \u001b[0mlearning_rate\u001b[0m\u001b[0;34m=\u001b[0m\u001b[0;36m0.1\u001b[0m\u001b[0;34m,\u001b[0m\u001b[0;34m\u001b[0m\n",
       "\u001b[0;34m\u001b[0m    \u001b[0mn_estimators\u001b[0m\u001b[0;34m=\u001b[0m\u001b[0;36m100\u001b[0m\u001b[0;34m,\u001b[0m\u001b[0;34m\u001b[0m\n",
       "\u001b[0;34m\u001b[0m    \u001b[0msubsample\u001b[0m\u001b[0;34m=\u001b[0m\u001b[0;36m1.0\u001b[0m\u001b[0;34m,\u001b[0m\u001b[0;34m\u001b[0m\n",
       "\u001b[0;34m\u001b[0m    \u001b[0mcriterion\u001b[0m\u001b[0;34m=\u001b[0m\u001b[0;34m'friedman_mse'\u001b[0m\u001b[0;34m,\u001b[0m\u001b[0;34m\u001b[0m\n",
       "\u001b[0;34m\u001b[0m    \u001b[0mmin_samples_split\u001b[0m\u001b[0;34m=\u001b[0m\u001b[0;36m2\u001b[0m\u001b[0;34m,\u001b[0m\u001b[0;34m\u001b[0m\n",
       "\u001b[0;34m\u001b[0m    \u001b[0mmin_samples_leaf\u001b[0m\u001b[0;34m=\u001b[0m\u001b[0;36m1\u001b[0m\u001b[0;34m,\u001b[0m\u001b[0;34m\u001b[0m\n",
       "\u001b[0;34m\u001b[0m    \u001b[0mmin_weight_fraction_leaf\u001b[0m\u001b[0;34m=\u001b[0m\u001b[0;36m0.0\u001b[0m\u001b[0;34m,\u001b[0m\u001b[0;34m\u001b[0m\n",
       "\u001b[0;34m\u001b[0m    \u001b[0mmax_depth\u001b[0m\u001b[0;34m=\u001b[0m\u001b[0;36m3\u001b[0m\u001b[0;34m,\u001b[0m\u001b[0;34m\u001b[0m\n",
       "\u001b[0;34m\u001b[0m    \u001b[0mmin_impurity_decrease\u001b[0m\u001b[0;34m=\u001b[0m\u001b[0;36m0.0\u001b[0m\u001b[0;34m,\u001b[0m\u001b[0;34m\u001b[0m\n",
       "\u001b[0;34m\u001b[0m    \u001b[0mmin_impurity_split\u001b[0m\u001b[0;34m=\u001b[0m\u001b[0;32mNone\u001b[0m\u001b[0;34m,\u001b[0m\u001b[0;34m\u001b[0m\n",
       "\u001b[0;34m\u001b[0m    \u001b[0minit\u001b[0m\u001b[0;34m=\u001b[0m\u001b[0;32mNone\u001b[0m\u001b[0;34m,\u001b[0m\u001b[0;34m\u001b[0m\n",
       "\u001b[0;34m\u001b[0m    \u001b[0mrandom_state\u001b[0m\u001b[0;34m=\u001b[0m\u001b[0;32mNone\u001b[0m\u001b[0;34m,\u001b[0m\u001b[0;34m\u001b[0m\n",
       "\u001b[0;34m\u001b[0m    \u001b[0mmax_features\u001b[0m\u001b[0;34m=\u001b[0m\u001b[0;32mNone\u001b[0m\u001b[0;34m,\u001b[0m\u001b[0;34m\u001b[0m\n",
       "\u001b[0;34m\u001b[0m    \u001b[0mverbose\u001b[0m\u001b[0;34m=\u001b[0m\u001b[0;36m0\u001b[0m\u001b[0;34m,\u001b[0m\u001b[0;34m\u001b[0m\n",
       "\u001b[0;34m\u001b[0m    \u001b[0mmax_leaf_nodes\u001b[0m\u001b[0;34m=\u001b[0m\u001b[0;32mNone\u001b[0m\u001b[0;34m,\u001b[0m\u001b[0;34m\u001b[0m\n",
       "\u001b[0;34m\u001b[0m    \u001b[0mwarm_start\u001b[0m\u001b[0;34m=\u001b[0m\u001b[0;32mFalse\u001b[0m\u001b[0;34m,\u001b[0m\u001b[0;34m\u001b[0m\n",
       "\u001b[0;34m\u001b[0m    \u001b[0mpresort\u001b[0m\u001b[0;34m=\u001b[0m\u001b[0;34m'auto'\u001b[0m\u001b[0;34m,\u001b[0m\u001b[0;34m\u001b[0m\n",
       "\u001b[0;34m\u001b[0m    \u001b[0mvalidation_fraction\u001b[0m\u001b[0;34m=\u001b[0m\u001b[0;36m0.1\u001b[0m\u001b[0;34m,\u001b[0m\u001b[0;34m\u001b[0m\n",
       "\u001b[0;34m\u001b[0m    \u001b[0mn_iter_no_change\u001b[0m\u001b[0;34m=\u001b[0m\u001b[0;32mNone\u001b[0m\u001b[0;34m,\u001b[0m\u001b[0;34m\u001b[0m\n",
       "\u001b[0;34m\u001b[0m    \u001b[0mtol\u001b[0m\u001b[0;34m=\u001b[0m\u001b[0;36m0.0001\u001b[0m\u001b[0;34m,\u001b[0m\u001b[0;34m\u001b[0m\n",
       "\u001b[0;34m\u001b[0m\u001b[0;34m)\u001b[0m\u001b[0;34m\u001b[0m\u001b[0;34m\u001b[0m\u001b[0m\n",
       "\u001b[0;31mDocstring:\u001b[0m     \n",
       "Gradient Boosting for classification.\n",
       "\n",
       "GB builds an additive model in a\n",
       "forward stage-wise fashion; it allows for the optimization of\n",
       "arbitrary differentiable loss functions. In each stage ``n_classes_``\n",
       "regression trees are fit on the negative gradient of the\n",
       "binomial or multinomial deviance loss function. Binary classification\n",
       "is a special case where only a single regression tree is induced.\n",
       "\n",
       "Read more in the :ref:`User Guide <gradient_boosting>`.\n",
       "\n",
       "Parameters\n",
       "----------\n",
       "loss : {'deviance', 'exponential'}, optional (default='deviance')\n",
       "    loss function to be optimized. 'deviance' refers to\n",
       "    deviance (= logistic regression) for classification\n",
       "    with probabilistic outputs. For loss 'exponential' gradient\n",
       "    boosting recovers the AdaBoost algorithm.\n",
       "\n",
       "learning_rate : float, optional (default=0.1)\n",
       "    learning rate shrinks the contribution of each tree by `learning_rate`.\n",
       "    There is a trade-off between learning_rate and n_estimators.\n",
       "\n",
       "n_estimators : int (default=100)\n",
       "    The number of boosting stages to perform. Gradient boosting\n",
       "    is fairly robust to over-fitting so a large number usually\n",
       "    results in better performance.\n",
       "\n",
       "subsample : float, optional (default=1.0)\n",
       "    The fraction of samples to be used for fitting the individual base\n",
       "    learners. If smaller than 1.0 this results in Stochastic Gradient\n",
       "    Boosting. `subsample` interacts with the parameter `n_estimators`.\n",
       "    Choosing `subsample < 1.0` leads to a reduction of variance\n",
       "    and an increase in bias.\n",
       "\n",
       "criterion : string, optional (default=\"friedman_mse\")\n",
       "    The function to measure the quality of a split. Supported criteria\n",
       "    are \"friedman_mse\" for the mean squared error with improvement\n",
       "    score by Friedman, \"mse\" for mean squared error, and \"mae\" for\n",
       "    the mean absolute error. The default value of \"friedman_mse\" is\n",
       "    generally the best as it can provide a better approximation in\n",
       "    some cases.\n",
       "\n",
       "    .. versionadded:: 0.18\n",
       "\n",
       "min_samples_split : int, float, optional (default=2)\n",
       "    The minimum number of samples required to split an internal node:\n",
       "\n",
       "    - If int, then consider `min_samples_split` as the minimum number.\n",
       "    - If float, then `min_samples_split` is a fraction and\n",
       "      `ceil(min_samples_split * n_samples)` are the minimum\n",
       "      number of samples for each split.\n",
       "\n",
       "    .. versionchanged:: 0.18\n",
       "       Added float values for fractions.\n",
       "\n",
       "min_samples_leaf : int, float, optional (default=1)\n",
       "    The minimum number of samples required to be at a leaf node.\n",
       "    A split point at any depth will only be considered if it leaves at\n",
       "    least ``min_samples_leaf`` training samples in each of the left and\n",
       "    right branches.  This may have the effect of smoothing the model,\n",
       "    especially in regression.\n",
       "\n",
       "    - If int, then consider `min_samples_leaf` as the minimum number.\n",
       "    - If float, then `min_samples_leaf` is a fraction and\n",
       "      `ceil(min_samples_leaf * n_samples)` are the minimum\n",
       "      number of samples for each node.\n",
       "\n",
       "    .. versionchanged:: 0.18\n",
       "       Added float values for fractions.\n",
       "\n",
       "min_weight_fraction_leaf : float, optional (default=0.)\n",
       "    The minimum weighted fraction of the sum total of weights (of all\n",
       "    the input samples) required to be at a leaf node. Samples have\n",
       "    equal weight when sample_weight is not provided.\n",
       "\n",
       "max_depth : integer, optional (default=3)\n",
       "    maximum depth of the individual regression estimators. The maximum\n",
       "    depth limits the number of nodes in the tree. Tune this parameter\n",
       "    for best performance; the best value depends on the interaction\n",
       "    of the input variables.\n",
       "\n",
       "min_impurity_decrease : float, optional (default=0.)\n",
       "    A node will be split if this split induces a decrease of the impurity\n",
       "    greater than or equal to this value.\n",
       "\n",
       "    The weighted impurity decrease equation is the following::\n",
       "\n",
       "        N_t / N * (impurity - N_t_R / N_t * right_impurity\n",
       "                            - N_t_L / N_t * left_impurity)\n",
       "\n",
       "    where ``N`` is the total number of samples, ``N_t`` is the number of\n",
       "    samples at the current node, ``N_t_L`` is the number of samples in the\n",
       "    left child, and ``N_t_R`` is the number of samples in the right child.\n",
       "\n",
       "    ``N``, ``N_t``, ``N_t_R`` and ``N_t_L`` all refer to the weighted sum,\n",
       "    if ``sample_weight`` is passed.\n",
       "\n",
       "    .. versionadded:: 0.19\n",
       "\n",
       "min_impurity_split : float, (default=1e-7)\n",
       "    Threshold for early stopping in tree growth. A node will split\n",
       "    if its impurity is above the threshold, otherwise it is a leaf.\n",
       "\n",
       "    .. deprecated:: 0.19\n",
       "       ``min_impurity_split`` has been deprecated in favor of\n",
       "       ``min_impurity_decrease`` in 0.19. The default value of\n",
       "       ``min_impurity_split`` will change from 1e-7 to 0 in 0.23 and it\n",
       "       will be removed in 0.25. Use ``min_impurity_decrease`` instead.\n",
       "\n",
       "init : estimator or 'zero', optional (default=None)\n",
       "    An estimator object that is used to compute the initial predictions.\n",
       "    ``init`` has to provide `fit` and `predict_proba`. If 'zero', the\n",
       "    initial raw predictions are set to zero. By default, a\n",
       "    ``DummyEstimator`` predicting the classes priors is used.\n",
       "\n",
       "random_state : int, RandomState instance or None, optional (default=None)\n",
       "    If int, random_state is the seed used by the random number generator;\n",
       "    If RandomState instance, random_state is the random number generator;\n",
       "    If None, the random number generator is the RandomState instance used\n",
       "    by `np.random`.\n",
       "\n",
       "max_features : int, float, string or None, optional (default=None)\n",
       "    The number of features to consider when looking for the best split:\n",
       "\n",
       "    - If int, then consider `max_features` features at each split.\n",
       "    - If float, then `max_features` is a fraction and\n",
       "      `int(max_features * n_features)` features are considered at each\n",
       "      split.\n",
       "    - If \"auto\", then `max_features=sqrt(n_features)`.\n",
       "    - If \"sqrt\", then `max_features=sqrt(n_features)`.\n",
       "    - If \"log2\", then `max_features=log2(n_features)`.\n",
       "    - If None, then `max_features=n_features`.\n",
       "\n",
       "    Choosing `max_features < n_features` leads to a reduction of variance\n",
       "    and an increase in bias.\n",
       "\n",
       "    Note: the search for a split does not stop until at least one\n",
       "    valid partition of the node samples is found, even if it requires to\n",
       "    effectively inspect more than ``max_features`` features.\n",
       "\n",
       "verbose : int, default: 0\n",
       "    Enable verbose output. If 1 then it prints progress and performance\n",
       "    once in a while (the more trees the lower the frequency). If greater\n",
       "    than 1 then it prints progress and performance for every tree.\n",
       "\n",
       "max_leaf_nodes : int or None, optional (default=None)\n",
       "    Grow trees with ``max_leaf_nodes`` in best-first fashion.\n",
       "    Best nodes are defined as relative reduction in impurity.\n",
       "    If None then unlimited number of leaf nodes.\n",
       "\n",
       "warm_start : bool, default: False\n",
       "    When set to ``True``, reuse the solution of the previous call to fit\n",
       "    and add more estimators to the ensemble, otherwise, just erase the\n",
       "    previous solution. See :term:`the Glossary <warm_start>`.\n",
       "\n",
       "presort : bool or 'auto', optional (default='auto')\n",
       "    Whether to presort the data to speed up the finding of best splits in\n",
       "    fitting. Auto mode by default will use presorting on dense data and\n",
       "    default to normal sorting on sparse data. Setting presort to true on\n",
       "    sparse data will raise an error.\n",
       "\n",
       "    .. versionadded:: 0.17\n",
       "       *presort* parameter.\n",
       "\n",
       "validation_fraction : float, optional, default 0.1\n",
       "    The proportion of training data to set aside as validation set for\n",
       "    early stopping. Must be between 0 and 1.\n",
       "    Only used if ``n_iter_no_change`` is set to an integer.\n",
       "\n",
       "    .. versionadded:: 0.20\n",
       "\n",
       "n_iter_no_change : int, default None\n",
       "    ``n_iter_no_change`` is used to decide if early stopping will be used\n",
       "    to terminate training when validation score is not improving. By\n",
       "    default it is set to None to disable early stopping. If set to a\n",
       "    number, it will set aside ``validation_fraction`` size of the training\n",
       "    data as validation and terminate training when validation score is not\n",
       "    improving in all of the previous ``n_iter_no_change`` numbers of\n",
       "    iterations. The split is stratified.\n",
       "\n",
       "    .. versionadded:: 0.20\n",
       "\n",
       "tol : float, optional, default 1e-4\n",
       "    Tolerance for the early stopping. When the loss is not improving\n",
       "    by at least tol for ``n_iter_no_change`` iterations (if set to a\n",
       "    number), the training stops.\n",
       "\n",
       "    .. versionadded:: 0.20\n",
       "\n",
       "Attributes\n",
       "----------\n",
       "n_estimators_ : int\n",
       "    The number of estimators as selected by early stopping (if\n",
       "    ``n_iter_no_change`` is specified). Otherwise it is set to\n",
       "    ``n_estimators``.\n",
       "\n",
       "    .. versionadded:: 0.20\n",
       "\n",
       "feature_importances_ : array, shape (n_features,)\n",
       "    The feature importances (the higher, the more important the feature).\n",
       "\n",
       "oob_improvement_ : array, shape (n_estimators,)\n",
       "    The improvement in loss (= deviance) on the out-of-bag samples\n",
       "    relative to the previous iteration.\n",
       "    ``oob_improvement_[0]`` is the improvement in\n",
       "    loss of the first stage over the ``init`` estimator.\n",
       "\n",
       "train_score_ : array, shape (n_estimators,)\n",
       "    The i-th score ``train_score_[i]`` is the deviance (= loss) of the\n",
       "    model at iteration ``i`` on the in-bag sample.\n",
       "    If ``subsample == 1`` this is the deviance on the training data.\n",
       "\n",
       "loss_ : LossFunction\n",
       "    The concrete ``LossFunction`` object.\n",
       "\n",
       "init_ : estimator\n",
       "    The estimator that provides the initial predictions.\n",
       "    Set via the ``init`` argument or ``loss.init_estimator``.\n",
       "\n",
       "estimators_ : ndarray of DecisionTreeRegressor,shape (n_estimators, ``loss_.K``)\n",
       "    The collection of fitted sub-estimators. ``loss_.K`` is 1 for binary\n",
       "    classification, otherwise n_classes.\n",
       "\n",
       "Notes\n",
       "-----\n",
       "The features are always randomly permuted at each split. Therefore,\n",
       "the best found split may vary, even with the same training data and\n",
       "``max_features=n_features``, if the improvement of the criterion is\n",
       "identical for several splits enumerated during the search of the best\n",
       "split. To obtain a deterministic behaviour during fitting,\n",
       "``random_state`` has to be fixed.\n",
       "\n",
       "See also\n",
       "--------\n",
       "sklearn.ensemble.HistGradientBoostingClassifier,\n",
       "sklearn.tree.DecisionTreeClassifier, RandomForestClassifier\n",
       "AdaBoostClassifier\n",
       "\n",
       "References\n",
       "----------\n",
       "J. Friedman, Greedy Function Approximation: A Gradient Boosting\n",
       "Machine, The Annals of Statistics, Vol. 29, No. 5, 2001.\n",
       "\n",
       "J. Friedman, Stochastic Gradient Boosting, 1999\n",
       "\n",
       "T. Hastie, R. Tibshirani and J. Friedman.\n",
       "Elements of Statistical Learning Ed. 2, Springer, 2009.\n",
       "\u001b[0;31mFile:\u001b[0m           ~/Research/kaust-vislab/scikit-learn-tutorials/env/lib/python3.6/site-packages/sklearn/ensemble/gradient_boosting.py\n",
       "\u001b[0;31mType:\u001b[0m           ABCMeta\n",
       "\u001b[0;31mSubclasses:\u001b[0m     \n"
      ]
     },
     "metadata": {},
     "output_type": "display_data"
    }
   ],
   "source": [
    "ensemble.GradientBoostingClassifier?"
   ]
  },
  {
   "cell_type": "code",
   "execution_count": 88,
   "metadata": {},
   "outputs": [],
   "source": [
    "_random_state = np.random.RandomState(42)\n",
    "gradient_boosting_classifier = ensemble.GradientBoostingClassifier(n_estimators=100,\n",
    "                                                                   learning_rate=1e-1,\n",
    "                                                                   random_state=_random_state)"
   ]
  },
  {
   "cell_type": "code",
   "execution_count": 89,
   "metadata": {},
   "outputs": [
    {
     "name": "stderr",
     "output_type": "stream",
     "text": [
      "[Parallel(n_jobs=5)]: Using backend LokyBackend with 5 concurrent workers.\n",
      "[Parallel(n_jobs=5)]: Done   2 out of   5 | elapsed: 22.8min remaining: 34.3min\n",
      "[Parallel(n_jobs=5)]: Done   3 out of   5 | elapsed: 22.9min remaining: 15.2min\n",
      "[Parallel(n_jobs=5)]: Done   5 out of   5 | elapsed: 23.4min remaining:    0.0s\n",
      "[Parallel(n_jobs=5)]: Done   5 out of   5 | elapsed: 23.4min finished\n"
     ]
    }
   ],
   "source": [
    "gradient_boosting_scores = model_selection.cross_val_score(gradient_boosting_classifier, Z, y, cv=5, n_jobs=5, verbose=10)"
   ]
  },
  {
   "cell_type": "code",
   "execution_count": 90,
   "metadata": {},
   "outputs": [
    {
     "data": {
      "text/plain": [
       "0.9424530571327285"
      ]
     },
     "execution_count": 90,
     "metadata": {},
     "output_type": "execute_result"
    }
   ],
   "source": [
    "gradient_boosting_scores.mean()"
   ]
  },
  {
   "cell_type": "code",
   "execution_count": 99,
   "metadata": {},
   "outputs": [],
   "source": [
    "def early_stopping(gbt, X, y, max_estimators=100, valid_size=0.1):    \n",
    "    X_train, X_valid, y_train, y_valid = model_selection.train_test_split(X, y, test_size=valid_size) \n",
    "    current_valid_error = float(\"inf\")\n",
    "    error_going_up = 0\n",
    "    valid_errors = []\n",
    "    for n_estimators in range(1, max_estimators):\n",
    "        if error_going_up == 5:\n",
    "                break  # early stopping\n",
    "        \n",
    "        gbt.n_estimators = n_estimators\n",
    "        gbt.fit(X_train, y_train)\n",
    "        y_pred = gbt.predict(X_valid)\n",
    "        valid_error = metrics.mean_squared_error(y_valid, y_pred)\n",
    "        valid_errors.append(valid_error)\n",
    "        if valid_error < current_valid_error:\n",
    "            current_valid_error = valid_error\n",
    "            error_going_up = 0\n",
    "        else:\n",
    "            error_going_up += 1\n",
    "    return gbt, valid_errors"
   ]
  },
  {
   "cell_type": "code",
   "execution_count": 100,
   "metadata": {},
   "outputs": [],
   "source": [
    "gradient_boosting_classifier = ensemble.GradientBoostingClassifier(learning_rate=1e-1,\n",
    "                                                                   random_state=_random_state,\n",
    "                                                                   warm_start=True)\n",
    "_, valid_errors = early_stopping(gradient_boosting_classifier, Z, y)"
   ]
  },
  {
   "cell_type": "code",
   "execution_count": 103,
   "metadata": {},
   "outputs": [
    {
     "data": {
      "text/plain": [
       "Text(0, 0.5, 'Validation RMSE')"
      ]
     },
     "execution_count": 103,
     "metadata": {},
     "output_type": "execute_result"
    },
    {
     "data": {
      "image/png": "[encoded data removed]",
      "text/plain": [
       "<Figure size 432x288 with 1 Axes>"
      ]
     },
     "metadata": {
      "needs_background": "light"
     },
     "output_type": "display_data"
    }
   ],
   "source": [
    "_ = plt.plot(valid_errors)\n",
    "_ = plt.xlabel(\"Number of estimators\")\n",
    "_ = plt.ylabel(\"Validation RMSE\")"
   ]
  },
  {
   "cell_type": "code",
   "execution_count": 104,
   "metadata": {},
   "outputs": [],
   "source": [
    "# also possible to subsample the training data\n",
    "_random_state = np.random.RandomState(42)\n",
    "stochastic_gradient_boosting_classifier = ensemble.GradientBoostingClassifier(n_estimators=100,\n",
    "                                                                              learning_rate=1e-1,\n",
    "                                                                              random_state=_random_state,\n",
    "                                                                              subsample=0.25)"
   ]
  },
  {
   "cell_type": "code",
   "execution_count": 105,
   "metadata": {},
   "outputs": [
    {
     "name": "stderr",
     "output_type": "stream",
     "text": [
      "[Parallel(n_jobs=5)]: Using backend LokyBackend with 5 concurrent workers.\n",
      "[Parallel(n_jobs=5)]: Done   2 out of   5 | elapsed:  9.2min remaining: 13.8min\n",
      "[Parallel(n_jobs=5)]: Done   3 out of   5 | elapsed:  9.2min remaining:  6.1min\n",
      "[Parallel(n_jobs=5)]: Done   5 out of   5 | elapsed:  9.4min remaining:    0.0s\n",
      "[Parallel(n_jobs=5)]: Done   5 out of   5 | elapsed:  9.4min finished\n"
     ]
    }
   ],
   "source": [
    "stochastic_gradient_boosting_scores = model_selection.cross_val_score(stochastic_gradient_boosting_classifier, Z, y, cv=5, n_jobs=5, verbose=10)"
   ]
  },
  {
   "cell_type": "code",
   "execution_count": 106,
   "metadata": {},
   "outputs": [
    {
     "data": {
      "text/plain": [
       "0.92433425849946"
      ]
     },
     "execution_count": 106,
     "metadata": {},
     "output_type": "execute_result"
    }
   ],
   "source": [
    "stochastic_gradient_boosting_scores.mean()"
   ]
  },
  {
   "cell_type": "markdown",
   "metadata": {},
   "source": [
    "# Stacking"
   ]
  },
  {
   "cell_type": "code",
   "execution_count": 116,
   "metadata": {},
   "outputs": [
    {
     "name": "stderr",
     "output_type": "stream",
     "text": [
      "/home/pughdr/Research/kaust-vislab/scikit-learn-tutorials/env/lib/python3.6/site-packages/sklearn/linear_model/logistic.py:947: ConvergenceWarning: lbfgs failed to converge. Increase the number of iterations.\n",
      "  \"of iterations.\", ConvergenceWarning)\n"
     ]
    }
   ],
   "source": [
    "training_features, validation_features, training_target, validation_target = model_selection.train_test_split(Z, y, test_size=0.5)\n",
    "\n",
    "estimators = [linear_model.LogisticRegression(multi_class=\"auto\", solver=\"lbfgs\"), tree.DecisionTreeClassifier(), svm.SVC(gamma=\"scale\")]\n",
    "\n",
    "for estimator in estimators:\n",
    "    estimator.fit(training_features, training_target)\n",
    "    \n",
    "estimator_predictions = []\n",
    "for estimator in estimators:\n",
    "    estimator_predictions.append(estimator.predict(validation_features).reshape(-1, 1))\n"
   ]
  },
  {
   "cell_type": "code",
   "execution_count": 117,
   "metadata": {},
   "outputs": [
    {
     "data": {
      "text/plain": [
       "RandomForestClassifier(bootstrap=True, class_weight=None, criterion='gini',\n",
       "                       max_depth=None, max_features='auto', max_leaf_nodes=None,\n",
       "                       min_impurity_decrease=0.0, min_impurity_split=None,\n",
       "                       min_samples_leaf=1, min_samples_split=2,\n",
       "                       min_weight_fraction_leaf=0.0, n_estimators=100,\n",
       "                       n_jobs=None, oob_score=False, random_state=None,\n",
       "                       verbose=0, warm_start=False)"
      ]
     },
     "execution_count": 117,
     "metadata": {},
     "output_type": "execute_result"
    }
   ],
   "source": [
    "_blending_features = np.hstack(estimator_predictions)\n",
    "blending_features, validation_features, blending_target, meta_learning_target = model_selection.train_test_split(_blending_features, validation_target, test_size=0.5)\n",
    "\n",
    "# shape of the blender features will be (?, len(estimators))\n",
    "blenders = [ensemble.BaggingClassifier(), ensemble.AdaBoostClassifier()]\n",
    "for blender in blenders:\n",
    "    blender.fit(blending_features, blending_target)\n",
    "    \n",
    "blender_predictions = []\n",
    "for blender in blenders:\n",
    "    blender_predictions.append(blender.predict(validation_features).reshape(-1, 1))\n",
    "    \n",
    "meta_learning_features = np.hstack(blender_predictions)\n",
    "meta_learner = ensemble.RandomForestClassifier(n_estimators=100)\n",
    "meta_learner.fit(meta_learning_features, meta_learning_target)"
   ]
  },
  {
   "cell_type": "code",
   "execution_count": null,
   "metadata": {},
   "outputs": [],
   "source": []
  }
 ],
 "metadata": {
  "kernelspec": {
   "display_name": "Python 3",
   "language": "python",
   "name": "python3"
  },
  "language_info": {
   "codemirror_mode": {
    "name": "ipython",
    "version": 3
   },
   "file_extension": ".py",
   "mimetype": "text/x-python",
   "name": "python",
   "nbconvert_exporter": "python",
   "pygments_lexer": "ipython3",
   "version": "3.6.7"
  }
 },
 "nbformat": 4,
 "nbformat_minor": 4
}
